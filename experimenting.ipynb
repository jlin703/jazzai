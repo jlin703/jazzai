{
 "cells": [
  {
   "cell_type": "code",
   "execution_count": 19,
   "metadata": {},
   "outputs": [],
   "source": [
    "import pandas as pd\n",
    "from collections import Counter, defaultdict"
   ]
  },
  {
   "cell_type": "code",
   "execution_count": 45,
   "metadata": {
    "collapsed": true
   },
   "outputs": [],
   "source": [
    "# Iterate over a list in chunks of size n. Return tuples (for dict).\n",
    "def chunks(iterable, n):\n",
    "    for ix, item in enumerate(iterable):\n",
    "        if ix == len(iterable) - (n-1): return\n",
    "        yield tuple(iterable[ix:ix+n])\n",
    "        \n",
    "# Build the conditional probability tables.\n",
    "def condProbTables(ngramfreqs, nngramfreqs):\n",
    "    nprobs = defaultdict(int)\n",
    "    prevnngramnexts = defaultdict(list)\n",
    "    for ngram, freq in ngramfreqs.items():\n",
    "        prevnngram = ngram[:-1]\n",
    "        currchar = ngram[-1]\n",
    "        nprobs[(currchar, prevnngram)] = float(ngramfreqs[ngram]) / nngramfreqs[prevnngram]\n",
    "        if prevnngram not in prevnngramnexts.keys():\n",
    "            prevnngramnexts[prevnngram].extend([(currchar, (float(ngramfreqs[ngram]) / nngramfreqs[prevnngram]))])\n",
    "            continue\n",
    "        prevnngramnexts[prevnngram].extend([(currchar, (float(ngramfreqs[ngram]) / nngramfreqs[prevnngram]))])\n",
    "    return nprobs, prevnngramnexts\n",
    "\n",
    "\"\"\" 2. Generate the offsets using simple frequency probabilities. \"\"\"\n",
    "\n",
    "# Iterate over iterable in groups of n.\n",
    "def grouper(n, iterable, fillvalue=None):\n",
    "    for ix, i in enumerate(iterable):\n",
    "        if ix == len(iterable) - 1:\n",
    "            break\n",
    "        yield (iterable[ix], iterable[ix+1])\n",
    "        \n",
    "# Round to nearest nth of a unit.\n",
    "def my_round(x, n=4):\n",
    "    return round(x*n)/n\n",
    "\n",
    "# Normalize an iterable.\n",
    "def normList(L, normalizeTo=1):\n",
    "    vMax = 0\n",
    "    for item in L:\n",
    "        vMax += float(item)\n",
    "    return [ float(x)/(vMax*1.0)*normalizeTo for x in L]"
   ]
  },
  {
   "cell_type": "code",
   "execution_count": 25,
   "metadata": {},
   "outputs": [
    {
     "data": {
      "text/html": [
       "<div>\n",
       "<style>\n",
       "    .dataframe thead tr:only-child th {\n",
       "        text-align: right;\n",
       "    }\n",
       "\n",
       "    .dataframe thead th {\n",
       "        text-align: left;\n",
       "    }\n",
       "\n",
       "    .dataframe tbody tr th {\n",
       "        vertical-align: top;\n",
       "    }\n",
       "</style>\n",
       "<table border=\"1\" class=\"dataframe\">\n",
       "  <thead>\n",
       "    <tr style=\"text-align: right;\">\n",
       "      <th></th>\n",
       "      <th>Note/Rest</th>\n",
       "      <th>Octave</th>\n",
       "      <th>Len</th>\n",
       "      <th>Offset</th>\n",
       "    </tr>\n",
       "  </thead>\n",
       "  <tbody>\n",
       "    <tr>\n",
       "      <th>2</th>\n",
       "      <td>D</td>\n",
       "      <td>5</td>\n",
       "      <td>0.750000</td>\n",
       "      <td>12.666667</td>\n",
       "    </tr>\n",
       "    <tr>\n",
       "      <th>3</th>\n",
       "      <td>E</td>\n",
       "      <td>4</td>\n",
       "      <td>0.666667</td>\n",
       "      <td>14.000000</td>\n",
       "    </tr>\n",
       "    <tr>\n",
       "      <th>4</th>\n",
       "      <td>C#</td>\n",
       "      <td>5</td>\n",
       "      <td>0.875000</td>\n",
       "      <td>14.000000</td>\n",
       "    </tr>\n",
       "    <tr>\n",
       "      <th>5</th>\n",
       "      <td>A</td>\n",
       "      <td>5</td>\n",
       "      <td>0.250000</td>\n",
       "      <td>15.000000</td>\n",
       "    </tr>\n",
       "    <tr>\n",
       "      <th>6</th>\n",
       "      <td>F</td>\n",
       "      <td>4</td>\n",
       "      <td>3.125000</td>\n",
       "      <td>16.000000</td>\n",
       "    </tr>\n",
       "  </tbody>\n",
       "</table>\n",
       "</div>"
      ],
      "text/plain": [
       "  Note/Rest  Octave       Len     Offset\n",
       "2         D       5  0.750000  12.666667\n",
       "3         E       4  0.666667  14.000000\n",
       "4        C#       5  0.875000  14.000000\n",
       "5         A       5  0.250000  15.000000\n",
       "6         F       4  3.125000  16.000000"
      ]
     },
     "execution_count": 25,
     "metadata": {},
     "output_type": "execute_result"
    }
   ],
   "source": [
    "oscar = pd.read_csv('oscar2notes.txt', skiprows=2)[:].sort_values(\"Offset\")\n",
    "oscar.index = range(1, len(oscar) + 1)\n",
    "oscar = oscar[oscar.Octave >= 4]\n",
    "oscar.head()"
   ]
  },
  {
   "cell_type": "code",
   "execution_count": 29,
   "metadata": {},
   "outputs": [],
   "source": [
    "possiblenotes = [\"%s%s\" % (row[1][\"Note/Rest\"], row[1][\"Octave\"]) for row in oscar.iterrows()]\n",
    "possiblenotes.insert(0, \"start\")\n",
    "possiblenotes.insert(0, \"start\")\n",
    "possiblenotes.insert(0, \"start\")"
   ]
  },
  {
   "cell_type": "code",
   "execution_count": 32,
   "metadata": {
    "collapsed": true
   },
   "outputs": [],
   "source": [
    "bigramfreqs = defaultdict(int)\n",
    "for i in chunks(possiblenotes, 2):\n",
    "    bigramfreqs[i] += 1\n",
    "trigramfreqs = defaultdict(int)\n",
    "for i in chunks(possiblenotes, 3):\n",
    "    trigramfreqs[i] += 1\n",
    "quadgramfreqs = defaultdict(int)\n",
    "for i in chunks(possiblenotes, 4):\n",
    "    quadgramfreqs[i] += 1"
   ]
  },
  {
   "cell_type": "code",
   "execution_count": 34,
   "metadata": {
    "collapsed": true
   },
   "outputs": [],
   "source": [
    "# Encode ngram probabilities\n",
    "triprobs, prevbigramnexts = condProbTables(trigramfreqs, bigramfreqs)\n",
    "# quadprobs, prevtrigramnexts = condProbTables(quadgramfreqs, trigramfreqs)"
   ]
  },
  {
   "cell_type": "code",
   "execution_count": 43,
   "metadata": {},
   "outputs": [],
   "source": [
    "offsets = defaultdict(int)\n",
    "genTuples = grouper(2, [float(i) for i in oscar[\"Offset\"]])\n",
    "for j in genTuples:\n",
    "    toCompare = j\n",
    "    diff = float(toCompare[1]) - float(toCompare[0])\n",
    "    diff = my_round(diff)\n",
    "    if diff > 4: continue # can't have gaps > 4\n",
    "    offsets[diff] += 1 # set gaps nicely, only integer gaps.\n",
    "    \n",
    "offset_poss = [k for k in offsets]           # possible offsets. need separate for np.random.choice()\n",
    "offset_probs = [offsets[k] for k in offsets] # probabilities for each of those offset"
   ]
  },
  {
   "cell_type": "code",
   "execution_count": 46,
   "metadata": {},
   "outputs": [],
   "source": [
    "# prune offsets after normalizing so # possible offsets < 32 for np.random.choice()\n",
    "# durations: cutoff if over 6\n",
    "offset_ixToDel = [jx for jx, j in enumerate(offset_probs) if j < 5 and (offset_poss[jx] < 2)]\n",
    "offset_poss = [i for ix, i in enumerate(offset_poss) if ix not in offset_ixToDel]\n",
    "offset_probs = [j for jx, j in enumerate(offset_probs) if jx not in offset_ixToDel]\n",
    "for jx, j in enumerate(offset_poss):\n",
    "    if j <= 0:\n",
    "        del offset_poss[jx]\n",
    "        del offset_probs[jx]\n",
    "offset_probs = normList(offset_probs)"
   ]
  },
  {
   "cell_type": "code",
   "execution_count": null,
   "metadata": {
    "collapsed": true
   },
   "outputs": [],
   "source": []
  }
 ],
 "metadata": {
  "kernelspec": {
   "display_name": "Python 3",
   "language": "python",
   "name": "python3"
  },
  "language_info": {
   "codemirror_mode": {
    "name": "ipython",
    "version": 3
   },
   "file_extension": ".py",
   "mimetype": "text/x-python",
   "name": "python",
   "nbconvert_exporter": "python",
   "pygments_lexer": "ipython3",
   "version": "3.6.2"
  }
 },
 "nbformat": 4,
 "nbformat_minor": 2
}
