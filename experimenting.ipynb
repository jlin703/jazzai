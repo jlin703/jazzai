{
 "cells": [
  {
   "cell_type": "code",
   "execution_count": 19,
   "metadata": {},
   "outputs": [],
   "source": [
    "import pandas as pd\n",
    "from collections import Counter, defaultdict"
   ]
  },
  {
   "cell_type": "code",
   "execution_count": 33,
   "metadata": {
    "collapsed": true
   },
   "outputs": [],
   "source": [
    "# Iterate over a list in chunks of size n. Return tuples (for dict).\n",
    "def chunks(iterable, n):\n",
    "    for ix, item in enumerate(iterable):\n",
    "        if ix == len(iterable) - (n-1): return\n",
    "        yield tuple(iterable[ix:ix+n])\n",
    "        \n",
    "# Build the conditional probability tables.\n",
    "def condProbTables(ngramfreqs, nngramfreqs):\n",
    "    nprobs = defaultdict(int)\n",
    "    prevnngramnexts = defaultdict(list)\n",
    "    for ngram, freq in ngramfreqs.items():\n",
    "        prevnngram = ngram[:-1]\n",
    "        currchar = ngram[-1]\n",
    "        nprobs[(currchar, prevnngram)] = float(ngramfreqs[ngram]) / nngramfreqs[prevnngram]\n",
    "        if prevnngram not in prevnngramnexts.keys():\n",
    "            prevnngramnexts[prevnngram].extend([(currchar, (float(ngramfreqs[ngram]) / nngramfreqs[prevnngram]))])\n",
    "            continue\n",
    "        prevnngramnexts[prevnngram].extend([(currchar, (float(ngramfreqs[ngram]) / nngramfreqs[prevnngram]))])\n",
    "    return nprobs, prevnngramnexts"
   ]
  },
  {
   "cell_type": "code",
   "execution_count": 25,
   "metadata": {},
   "outputs": [
    {
     "data": {
      "text/html": [
       "<div>\n",
       "<style>\n",
       "    .dataframe thead tr:only-child th {\n",
       "        text-align: right;\n",
       "    }\n",
       "\n",
       "    .dataframe thead th {\n",
       "        text-align: left;\n",
       "    }\n",
       "\n",
       "    .dataframe tbody tr th {\n",
       "        vertical-align: top;\n",
       "    }\n",
       "</style>\n",
       "<table border=\"1\" class=\"dataframe\">\n",
       "  <thead>\n",
       "    <tr style=\"text-align: right;\">\n",
       "      <th></th>\n",
       "      <th>Note/Rest</th>\n",
       "      <th>Octave</th>\n",
       "      <th>Len</th>\n",
       "      <th>Offset</th>\n",
       "    </tr>\n",
       "  </thead>\n",
       "  <tbody>\n",
       "    <tr>\n",
       "      <th>2</th>\n",
       "      <td>D</td>\n",
       "      <td>5</td>\n",
       "      <td>0.750000</td>\n",
       "      <td>12.666667</td>\n",
       "    </tr>\n",
       "    <tr>\n",
       "      <th>3</th>\n",
       "      <td>E</td>\n",
       "      <td>4</td>\n",
       "      <td>0.666667</td>\n",
       "      <td>14.000000</td>\n",
       "    </tr>\n",
       "    <tr>\n",
       "      <th>4</th>\n",
       "      <td>C#</td>\n",
       "      <td>5</td>\n",
       "      <td>0.875000</td>\n",
       "      <td>14.000000</td>\n",
       "    </tr>\n",
       "    <tr>\n",
       "      <th>5</th>\n",
       "      <td>A</td>\n",
       "      <td>5</td>\n",
       "      <td>0.250000</td>\n",
       "      <td>15.000000</td>\n",
       "    </tr>\n",
       "    <tr>\n",
       "      <th>6</th>\n",
       "      <td>F</td>\n",
       "      <td>4</td>\n",
       "      <td>3.125000</td>\n",
       "      <td>16.000000</td>\n",
       "    </tr>\n",
       "  </tbody>\n",
       "</table>\n",
       "</div>"
      ],
      "text/plain": [
       "  Note/Rest  Octave       Len     Offset\n",
       "2         D       5  0.750000  12.666667\n",
       "3         E       4  0.666667  14.000000\n",
       "4        C#       5  0.875000  14.000000\n",
       "5         A       5  0.250000  15.000000\n",
       "6         F       4  3.125000  16.000000"
      ]
     },
     "execution_count": 25,
     "metadata": {},
     "output_type": "execute_result"
    }
   ],
   "source": [
    "oscar = pd.read_csv('oscar2notes.txt', skiprows=2)[:].sort_values(\"Offset\")\n",
    "oscar.index = range(1, len(oscar) + 1)\n",
    "oscar = oscar[oscar.Octave >= 4]\n",
    "oscar.head()"
   ]
  },
  {
   "cell_type": "code",
   "execution_count": 29,
   "metadata": {},
   "outputs": [],
   "source": [
    "possiblenotes = [\"%s%s\" % (row[1][\"Note/Rest\"], row[1][\"Octave\"]) for row in oscar.iterrows()]\n",
    "possiblenotes.insert(0, \"start\")\n",
    "possiblenotes.insert(0, \"start\")\n",
    "possiblenotes.insert(0, \"start\")"
   ]
  },
  {
   "cell_type": "code",
   "execution_count": 32,
   "metadata": {
    "collapsed": true
   },
   "outputs": [],
   "source": [
    "bigramfreqs = defaultdict(int)\n",
    "for i in chunks(possiblenotes, 2):\n",
    "    bigramfreqs[i] += 1\n",
    "trigramfreqs = defaultdict(int)\n",
    "for i in chunks(possiblenotes, 3):\n",
    "    trigramfreqs[i] += 1\n",
    "quadgramfreqs = defaultdict(int)\n",
    "for i in chunks(possiblenotes, 4):\n",
    "    quadgramfreqs[i] += 1"
   ]
  },
  {
   "cell_type": "code",
   "execution_count": 34,
   "metadata": {
    "collapsed": true
   },
   "outputs": [],
   "source": [
    "# Encode ngram probabilities\n",
    "triprobs, prevbigramnexts = condProbTables(trigramfreqs, bigramfreqs)\n",
    "# quadprobs, prevtrigramnexts = condProbTables(quadgramfreqs, trigramfreqs)"
   ]
  },
  {
   "cell_type": "code",
   "execution_count": null,
   "metadata": {
    "collapsed": true
   },
   "outputs": [],
   "source": []
  }
 ],
 "metadata": {
  "kernelspec": {
   "display_name": "Python 3",
   "language": "python",
   "name": "python3"
  },
  "language_info": {
   "codemirror_mode": {
    "name": "ipython",
    "version": 3
   },
   "file_extension": ".py",
   "mimetype": "text/x-python",
   "name": "python",
   "nbconvert_exporter": "python",
   "pygments_lexer": "ipython3",
   "version": "3.6.2"
  }
 },
 "nbformat": 4,
 "nbformat_minor": 2
}
