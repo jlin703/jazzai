{
 "cells": [
  {
   "cell_type": "code",
   "execution_count": 1,
   "metadata": {
    "collapsed": true
   },
   "outputs": [],
   "source": [
    "import numpy as np\n",
    "import pandas as pd\n",
    "from collections import defaultdict\n",
    "from sklearn.cluster import KMeans\n",
    "import sys, re, itertools, random, copy"
   ]
  },
  {
   "cell_type": "code",
   "execution_count": 2,
   "metadata": {},
   "outputs": [
    {
     "data": {
      "text/html": [
       "<div>\n",
       "<style>\n",
       "    .dataframe thead tr:only-child th {\n",
       "        text-align: right;\n",
       "    }\n",
       "\n",
       "    .dataframe thead th {\n",
       "        text-align: left;\n",
       "    }\n",
       "\n",
       "    .dataframe tbody tr th {\n",
       "        vertical-align: top;\n",
       "    }\n",
       "</style>\n",
       "<table border=\"1\" class=\"dataframe\">\n",
       "  <thead>\n",
       "    <tr style=\"text-align: right;\">\n",
       "      <th></th>\n",
       "      <th>Note</th>\n",
       "      <th>Len</th>\n",
       "      <th>Offset</th>\n",
       "    </tr>\n",
       "  </thead>\n",
       "  <tbody>\n",
       "    <tr>\n",
       "      <th>0</th>\n",
       "      <td>D5</td>\n",
       "      <td>0.50</td>\n",
       "      <td>0.00</td>\n",
       "    </tr>\n",
       "    <tr>\n",
       "      <th>1</th>\n",
       "      <td>C#5</td>\n",
       "      <td>0.25</td>\n",
       "      <td>0.50</td>\n",
       "    </tr>\n",
       "    <tr>\n",
       "      <th>2</th>\n",
       "      <td>A5</td>\n",
       "      <td>0.25</td>\n",
       "      <td>0.75</td>\n",
       "    </tr>\n",
       "    <tr>\n",
       "      <th>3</th>\n",
       "      <td>D5</td>\n",
       "      <td>0.25</td>\n",
       "      <td>1.00</td>\n",
       "    </tr>\n",
       "    <tr>\n",
       "      <th>4</th>\n",
       "      <td>B-4</td>\n",
       "      <td>0.50</td>\n",
       "      <td>1.25</td>\n",
       "    </tr>\n",
       "  </tbody>\n",
       "</table>\n",
       "</div>"
      ],
      "text/plain": [
       "  Note   Len  Offset\n",
       "0   D5  0.50    0.00\n",
       "1  C#5  0.25    0.50\n",
       "2   A5  0.25    0.75\n",
       "3   D5  0.25    1.00\n",
       "4  B-4  0.50    1.25"
      ]
     },
     "execution_count": 2,
     "metadata": {},
     "output_type": "execute_result"
    }
   ],
   "source": [
    "# Read in the data and generate the offsets.\n",
    "# It's okay to generate offsets here since are trigram notes.\n",
    "# Recall: len = how long note lasts, offset = when it's hit (e.g. stopwatch).\n",
    "numberofitems = 12345678910112 # some huge placeholder\n",
    "data = pd.read_csv('./oscar2ngrams.txt', names=['Note','Len'])\n",
    "\n",
    "# toggle if want to limit to first k items\n",
    "# 1078 notes in original MIDI file\n",
    "# numberofitems = 1078\n",
    "# data = data[:numberofitems]\n",
    "\n",
    "# Re-add offsets\n",
    "totaloffset = 0\n",
    "offsets = []\n",
    "for i in data['Len']:\n",
    "    offsets.append(totaloffset)\n",
    "    totaloffset += i\n",
    "data[\"Offset\"] = pd.Series(offsets)\n",
    "data.head()"
   ]
  },
  {
   "cell_type": "code",
   "execution_count": 3,
   "metadata": {
    "collapsed": true
   },
   "outputs": [],
   "source": [
    "\"\"\" Visualization #1: Initial plotting of length over offset. \"\"\"\n",
    "\n",
    "# Plot the length over offset.\n",
    "# *args is some (n, 2) array you want to plot\n",
    "def plotTiming(data, labels=None, clustercenters=None):\n",
    "    numberofitems = len(data)\n",
    "    \n",
    "    # generate colors\n",
    "    clusterCodes = dict()\n",
    "    if labels is not None:\n",
    "        for i in labels:\n",
    "            r = lambda: random.randint(0,255)\n",
    "            clusterCodes[i] = ('#%02X%02X%02X' % (r(),r(),r())).lower()\n",
    "    \n",
    "    # Initialize the graph\n",
    "    dx = data['Offset']\n",
    "    dy = data['Len']\n",
    "    dn = data['Note']\n",
    "    plt.plot(dx, dy, 'm.--', linewidth=1.5)\n",
    "    for ix, (x, y) in enumerate(zip(dx, dy)):\n",
    "        color = 'ko'\n",
    "        if labels is not None:\n",
    "            color = clusterCodes[labels[ix]]\n",
    "            plt.plot(x, y, 'x', ms=15, mew=1.5, color=color)\n",
    "            continue\n",
    "        plt.plot(x, y, color)\n",
    "\n",
    "    # plot the cluster centers if available\n",
    "    if clustercenters is not None:\n",
    "        for currColorIx, i in enumerate(clustercenters):\n",
    "            cx = i[0]\n",
    "            cy = i[1]\n",
    "            color = clusterCodes[currColorIx]\n",
    "            plt.plot(cx, cy, 'ko', mew=0, ms=7.5) # plot black. same color: color=color\n",
    "                \n",
    "    # plot the ticks if under certain # of points\n",
    "    if numberofitems <= 100:\n",
    "        plt.xticks(range(0, int(max(dx)) + 1))\n",
    "\n",
    "    # Annotate with note data only if under certain # of points\n",
    "    # (Otherwise, it gets too messy!)\n",
    "    if numberofitems <= 100 and labels is None:\n",
    "        for note, offset, length in izip(dn, dx, dy):\n",
    "            plt.annotate(note, xy=(offset, length), color='g')\n",
    "\n",
    "    # Enter title\n",
    "    plt.title('Generated N-Grams', fontsize=20, horizontalalignment='center')\n",
    "        \n",
    "    # set fig limits, size, and other display things\n",
    "    fig = plt.gcf()\n",
    "    ax = plt.gca()\n",
    "    plt.ylim([0, max(dy)+ 0.25])\n",
    "    plt.xlim([min(dx) - 1, max(dx) + 1])\n",
    "    plt.ylabel('Duration', fontsize=16)\n",
    "    plt.xlabel('Offset', fontsize=16)\n",
    "    plt.grid()\n",
    "    fig = plt.gcf()\n",
    "    fig.set_size_inches(18, 6)\n",
    "    # plt.xkcd()\n",
    "    ax.xaxis.grid(False)"
   ]
  },
  {
   "cell_type": "code",
   "execution_count": 5,
   "metadata": {},
   "outputs": [],
   "source": [
    "\"\"\" Visualization #2: K-Means Clustering. \"\"\"\n",
    "\n",
    "notesX = data[\"Offset\"].values.reshape(-1, 1)\n",
    "notesY = data[\"Len\"].values.reshape(-1, 1)\n",
    "notesXY = np.concatenate((notesX, notesY), axis=1)\n",
    "notenames = np.array([i for i in data[\"Note\"]])\n",
    "km = KMeans(n_clusters=int(np.sqrt(len(notesX) / 2)))\n",
    "km.fit(notesXY)\n",
    "kmlabels = km.labels_\n",
    "# plotTiming(data, labels=kmlabels, clustercenters=km.cluster_centers_)"
   ]
  },
  {
   "cell_type": "code",
   "execution_count": 9,
   "metadata": {},
   "outputs": [],
   "source": [
    "\"\"\" Collect the clusters for use later. \"\"\"\n",
    "\n",
    "# Iterate over notes and labels, aggregating clusters indicated by the unique labels.\n",
    "# Can't use groupby() since you might have multiple labels.\n",
    "allclusters = [] # this will be a list of (list of notes)s\n",
    "currlabel = kmlabels[0]\n",
    "currcluster = []\n",
    "for ix, note, label in zip(range(len(notenames)), notenames, kmlabels):\n",
    "    if currlabel == label:\n",
    "        currcluster.append(note)\n",
    "    else:\n",
    "        currlabel = label\n",
    "        allclusters.append(currcluster)\n",
    "        currcluster = []\n",
    "        currcluster.append(note)"
   ]
  },
  {
   "cell_type": "code",
   "execution_count": 17,
   "metadata": {},
   "outputs": [
    {
     "name": "stdout",
     "output_type": "stream",
     "text": [
      "Metronome, Timesig Numerator, Timesig Denominator, # chords played\n",
      "176.0 4 4 297\n"
     ]
    },
    {
     "ename": "TypeError",
     "evalue": "sort_values() got an unexpected keyword argument 'columns'",
     "output_type": "error",
     "traceback": [
      "\u001b[1;31m---------------------------------------------------------------------------\u001b[0m",
      "\u001b[1;31mTypeError\u001b[0m                                 Traceback (most recent call last)",
      "\u001b[1;32m<ipython-input-17-865a2d54f461>\u001b[0m in \u001b[0;36m<module>\u001b[1;34m()\u001b[0m\n\u001b[0;32m     10\u001b[0m \u001b[0mprint\u001b[0m\u001b[1;33m(\u001b[0m\u001b[1;34m\"Metronome, Timesig Numerator, Timesig Denominator, # chords played\"\u001b[0m\u001b[1;33m)\u001b[0m\u001b[1;33m\u001b[0m\u001b[0m\n\u001b[0;32m     11\u001b[0m \u001b[0mprint\u001b[0m\u001b[1;33m(\u001b[0m\u001b[0mmetmark\u001b[0m\u001b[1;33m,\u001b[0m \u001b[0mtsig_num\u001b[0m\u001b[1;33m,\u001b[0m \u001b[0mtsig_den\u001b[0m\u001b[1;33m,\u001b[0m \u001b[0mlen\u001b[0m\u001b[1;33m(\u001b[0m\u001b[0mallchords\u001b[0m\u001b[1;33m)\u001b[0m\u001b[1;33m)\u001b[0m\u001b[1;33m\u001b[0m\u001b[0m\n\u001b[1;32m---> 12\u001b[1;33m \u001b[0mallchords\u001b[0m\u001b[1;33m.\u001b[0m\u001b[0msort_values\u001b[0m\u001b[1;33m(\u001b[0m\u001b[0mcolumns\u001b[0m\u001b[1;33m=\u001b[0m\u001b[1;34m\"Offset\"\u001b[0m\u001b[1;33m,\u001b[0m \u001b[0mascending\u001b[0m\u001b[1;33m=\u001b[0m\u001b[1;32mTrue\u001b[0m\u001b[1;33m)\u001b[0m\u001b[1;33m[\u001b[0m\u001b[1;33m:\u001b[0m\u001b[1;36m10\u001b[0m\u001b[1;33m]\u001b[0m\u001b[1;33m\u001b[0m\u001b[0m\n\u001b[0m\u001b[0;32m     13\u001b[0m \u001b[0mallchords\u001b[0m\u001b[1;33m.\u001b[0m\u001b[0mhead\u001b[0m\u001b[1;33m(\u001b[0m\u001b[1;33m)\u001b[0m\u001b[1;33m\u001b[0m\u001b[0m\n",
      "\u001b[1;31mTypeError\u001b[0m: sort_values() got an unexpected keyword argument 'columns'"
     ]
    }
   ],
   "source": [
    "\"\"\" Read in the chord data. \"\"\"\n",
    "\n",
    "# Import the chord data.\n",
    "allchords = pd.read_csv('oscar2chords.txt', skiprows=2)[:].sort_values(\"Offset\")\n",
    "allchords.index = range(1, len(allchords) + 1)\n",
    "with open('oscar2chords.txt', 'r') as f:\n",
    "    metmark = float(f.readline())\n",
    "    tsig_num, tsig_den = [i for i in f.readline().replace(' /', '').split()]\n",
    "    \n",
    "print(\"Metronome, Timesig Numerator, Timesig Denominator, # chords played\")\n",
    "print(metmark, tsig_num, tsig_den, len(allchords))\n",
    "allchords.sort_values(columns=\"Offset\", ascending=True)[:10]\n",
    "allchords.head()"
   ]
  },
  {
   "cell_type": "code",
   "execution_count": null,
   "metadata": {
    "collapsed": true
   },
   "outputs": [],
   "source": []
  }
 ],
 "metadata": {
  "kernelspec": {
   "display_name": "Python 3",
   "language": "python",
   "name": "python3"
  },
  "language_info": {
   "codemirror_mode": {
    "name": "ipython",
    "version": 3
   },
   "file_extension": ".py",
   "mimetype": "text/x-python",
   "name": "python",
   "nbconvert_exporter": "python",
   "pygments_lexer": "ipython3",
   "version": "3.6.2"
  }
 },
 "nbformat": 4,
 "nbformat_minor": 2
}
